{
  "cells": [
    {
      "attachments": {},
      "cell_type": "markdown",
      "metadata": {},
      "source": [
        "##  Download & Import required pacages"
      ]
    },
    {
      "cell_type": "code",
      "execution_count": null,
      "metadata": {},
      "outputs": [],
      "source": [
        "!pip install -q --upgrade pip\n",
        "!pip install -q matplotlib\n",
        "!pip install -q math\n",
        "!pip install -q numpy\n",
        "!pip install -q copy\n",
        "!pip install -q keras"
      ]
    },
    {
      "cell_type": "code",
      "execution_count": 2,
      "metadata": {
        "id": "oAffhrNjKkJ3"
      },
      "outputs": [],
      "source": [
        "import matplotlib.pyplot as plt\n",
        "from keras.datasets import mnist\n",
        "import numpy as np\n",
        "import math\n",
        "import copy"
      ]
    },
    {
      "attachments": {},
      "cell_type": "markdown",
      "metadata": {},
      "source": [
        "## Load Database and normalize"
      ]
    },
    {
      "cell_type": "code",
      "execution_count": 3,
      "metadata": {
        "id": "VMZAMJsT2oVS"
      },
      "outputs": [],
      "source": [
        "def label_set(y, last_layer_lengh):\n",
        "  label_list = []\n",
        "  for label_value in y:\n",
        "    label_vector = np.zeros((last_layer_lengh,1))\n",
        "    label_vector[label_value, 0] = 1\n",
        "    label_list.append(label_vector)\n",
        "\n",
        "  return label_list"
      ]
    },
    {
      "cell_type": "code",
      "execution_count": 14,
      "metadata": {},
      "outputs": [],
      "source": [
        "def load_train_set():\n",
        "    # Reading The Train Set\n",
        "    train_images_file = open('train-images.idx3-ubyte', 'rb')\n",
        "    train_images_file.seek(4)\n",
        "    num_of_train_images = int.from_bytes(train_images_file.read(4), 'big')\n",
        "    train_images_file.seek(16)\n",
        "\n",
        "    train_labels_file = open('train-labels.idx1-ubyte', 'rb')\n",
        "    train_labels_file.seek(8)\n",
        "\n",
        "    train_set = []\n",
        "    for n in range(num_of_train_images):\n",
        "        image = np.zeros((784, 1))\n",
        "        for i in range(784):\n",
        "            image[i, 0] = int.from_bytes(train_images_file.read(1), 'big') / 256\n",
        "        \n",
        "        label_value = int.from_bytes(train_labels_file.read(1), 'big')\n",
        "        label = np.zeros((10, 1))\n",
        "        label[label_value, 0] = 1\n",
        "        \n",
        "        train_set.append((image, label))\n",
        "    return train_set\n"
      ]
    },
    {
      "cell_type": "code",
      "execution_count": 15,
      "metadata": {},
      "outputs": [],
      "source": [
        "def load_test_set(): \n",
        "    # Reading The Test Set\n",
        "    test_images_file = open('t10k-images.idx3-ubyte', 'rb')\n",
        "    test_images_file.seek(4)\n",
        "\n",
        "    test_labels_file = open('t10k-labels.idx1-ubyte', 'rb')\n",
        "    test_labels_file.seek(8)\n",
        "\n",
        "    num_of_test_images = int.from_bytes(test_images_file.read(4), 'big')\n",
        "    test_images_file.seek(16)\n",
        "\n",
        "    test_set = []\n",
        "    for n in range(num_of_test_images):\n",
        "        image = np.zeros((784, 1))\n",
        "        for i in range(784):\n",
        "            image[i] = int.from_bytes(test_images_file.read(1), 'big') / 256\n",
        "        \n",
        "        label_value = int.from_bytes(test_labels_file.read(1), 'big')\n",
        "        label = np.zeros((10, 1))\n",
        "        label[label_value, 0] = 1\n",
        "        \n",
        "        test_set.append((image, label))\n",
        "    \n",
        "    return test_set\n"
      ]
    },
    {
      "cell_type": "code",
      "execution_count": 16,
      "metadata": {},
      "outputs": [],
      "source": [
        "train_set = load_train_set()\n",
        "test_set = load_test_set()"
      ]
    },
    {
      "cell_type": "code",
      "execution_count": 9,
      "metadata": {},
      "outputs": [],
      "source": [
        "train_X = [item[0] for item in train_set]\n",
        "train_y = [item[1] for item in train_set]\n",
        "test_X = [item[0] for item in test_set]\n",
        "test_y = [item[1] for item in test_set]"
      ]
    },
    {
      "cell_type": "code",
      "execution_count": null,
      "metadata": {},
      "outputs": [],
      "source": [
        "def create_batch_list( train_X, train_y, batch_size):\n",
        "  train_X_batch_list = [train_X[i:i+batch_size] for i in range(0, len(train_X), batch_size)]\n",
        "  train_y_batch_list = [train_y[i:i+batch_size] for i in range(0, len(train_X), batch_size)]\n",
        "  batch_list = [zip(train_X_batch_list[i], train_y_batch_list[i]) for i in range(len(train_y_batch_list))]\n",
        "  return batch_list"
      ]
    },
    {
      "cell_type": "code",
      "execution_count": 18,
      "metadata": {
        "id": "70wKfaVXdcMf"
      },
      "outputs": [],
      "source": [
        "from collections import Counter\n",
        "def check_data_distribution():\n",
        "  print(\"train classes: \", set(train_y))\n",
        "  print(\"test classes: \", set(test_y))\n",
        "  train_dist = Counter(train_y)\n",
        "  print(train_dist)\n",
        "  test_dist = Counter(test_y)\n",
        "  print(test_dist)\n",
        "  return train_dist, test_dist"
      ]
    },
    {
      "cell_type": "code",
      "execution_count": 19,
      "metadata": {
        "id": "LEtqFV-xLCOB"
      },
      "outputs": [],
      "source": [
        "def barchart_ploter(dist_dict):\n",
        "  bars = list(dist_dict.keys())\n",
        "  hight = list(dist_dict.values())\n",
        "  plt.bar(bars, hight, width = 0.4)\n",
        "  plt.xlabal(\"numbers\")\n",
        "  plt.ylabal(\"distribution\")\n",
        "  plt.show()"
      ]
    },
    {
      "cell_type": "code",
      "execution_count": 10,
      "metadata": {
        "id": "BuDbFgjmLGFZ"
      },
      "outputs": [],
      "source": [
        "def check_data(index):\n",
        "  print(\"label: \",train_y[index])\n",
        "  plt.imshow(train_X[index])"
      ]
    },
    {
      "attachments": {},
      "cell_type": "markdown",
      "metadata": {
        "id": "lJw9kCHrLTci"
      },
      "source": [
        "## Forward Phase"
      ]
    },
    {
      "cell_type": "code",
      "execution_count": 32,
      "metadata": {
        "id": "UQvUkJU37ik5"
      },
      "outputs": [],
      "source": [
        "def W_init(row, col):\n",
        "    # random_w_list = np.random.uniform(low = 0, high = 1, size = row *col)\n",
        "    # random_w_matrix = random_w_list.reshape(row,col)\n",
        "    random_w_list = np.random.normal(0, 1, size = (row,col))\n",
        "    return random_w_list\n"
      ]
    },
    {
      "cell_type": "code",
      "execution_count": 33,
      "metadata": {
        "id": "PhhWVTDo7ik6"
      },
      "outputs": [],
      "source": [
        "def b_init(row):\n",
        "    # np.random.uniform(low = 0.0, high = 1.0, size = row)\n",
        "    random_b_list = np.zeros((row,1)) \n",
        "    random_b_matrix = random_b_list.reshape(row,1)\n",
        "    return random_b_matrix"
      ]
    },
    {
      "cell_type": "code",
      "execution_count": 34,
      "metadata": {
        "id": "MHmpEy8b7ik7"
      },
      "outputs": [],
      "source": [
        "def init_matrix(matrix_layer_list):\n",
        "    W_list = []\n",
        "    b_list = []\n",
        "    for layer_index in range(len(matrix_layer_list)-1):\n",
        "      W_list.append(W_init(matrix_layer_list[layer_index+1], matrix_layer_list[layer_index]))\n",
        "      b_list.append(b_init(matrix_layer_list[layer_index+1]))\n",
        "\n",
        "    return W_list, b_list"
      ]
    },
    {
      "cell_type": "code",
      "execution_count": 35,
      "metadata": {
        "id": "of6WqjHO_IF3"
      },
      "outputs": [],
      "source": [
        "def Sigmoid(x):\n",
        "  result = 1/(1+ np.exp(-x))\n",
        "  return result"
      ]
    },
    {
      "cell_type": "code",
      "execution_count": 36,
      "metadata": {
        "id": "wB5mf_u9KspI"
      },
      "outputs": [],
      "source": [
        "def next_leyar_activation_calculator(matrix_W, b_vector, a_vector):\n",
        "  resault_vector = Sigmoid((matrix_W @ a_vector) + b_vector)\n",
        "  return resault_vector "
      ]
    },
    {
      "cell_type": "code",
      "execution_count": 37,
      "metadata": {
        "id": "w1sCeBnkKySy"
      },
      "outputs": [],
      "source": [
        "def forward(input_data, W_list, b_list):\n",
        "  a_list = [input_data]\n",
        "  for i in range(len(W_list)):\n",
        "    res =next_leyar_activation_calculator(W_list[i], b_list[i], a_list[i])\n",
        "    a_list.append(res)\n",
        "  return a_list"
      ]
    },
    {
      "attachments": {},
      "cell_type": "markdown",
      "metadata": {
        "id": "Pwggts_pLir1"
      },
      "source": [
        "## Backward Phase"
      ]
    },
    {
      "cell_type": "code",
      "execution_count": 39,
      "metadata": {
        "id": "Zh7PPB6v7KaG"
      },
      "outputs": [],
      "source": [
        "def Sigmoid_derivate(x):\n",
        "  s = Sigmoid(x)\n",
        "  result = s * (1-s)\n",
        "  return result"
      ]
    },
    {
      "cell_type": "code",
      "execution_count": 40,
      "metadata": {
        "id": "B1VWmV_SAYm3"
      },
      "outputs": [],
      "source": [
        "def calculate_layer_dervatives(a_vector, b_vector, matrix_w, dcost_da_vector, layer_num):\n",
        "  z = (matrix_w @ a_vector) + b_vector\n",
        "  b_derivative =  dcost_da_vector * Sigmoid_derivate(z)\n",
        "  row, col = matrix_w.shape\n",
        "  a_derivative = np.zeros((col,1))\n",
        "  w_derivative = b_derivative @ np.transpose(a_vector)\n",
        "  if layer_num  != 0:\n",
        "    a_derivative = np.transpose(matrix_w) @ b_derivative\n",
        "\n",
        "  return b_derivative, a_derivative, w_derivative"
      ]
    },
    {
      "cell_type": "code",
      "execution_count": 41,
      "metadata": {
        "id": "14Zudi0WENL6"
      },
      "outputs": [],
      "source": [
        "def backpropagation_dev_calculator(a_list, b_list, w_list, label):\n",
        "  dcost_da_last_layer = 2*(a_list[-1] - label)\n",
        "  layers_num = len(b_list)\n",
        "  dcost_da_list = [0 for i in range(len(b_list))]\n",
        "  dcost_da_list[layers_num-1] = dcost_da_last_layer\n",
        "  \n",
        "  db_list = []\n",
        "  dw_list = []\n",
        "  for i in range(layers_num-1, -1, -1):\n",
        "    db, da, dw = calculate_layer_dervatives(a_list[i], b_list[i], w_list[i], dcost_da_list[i], i)\n",
        "    db_list.append(db)\n",
        "    dw_list.append(dw)\n",
        "    dcost_da_list[i-1] = da\n",
        "  \n",
        "  return db_list[::-1], dw_list[::-1]\n"
      ]
    },
    {
      "cell_type": "code",
      "execution_count": 42,
      "metadata": {
        "id": "1HNSp6kBENVv"
      },
      "outputs": [],
      "source": [
        "def backpropagation_grad_calculator(w_list, b_list, batch):\n",
        "\n",
        "  Gw_list = [np.zeros(mat.shape) for mat in w_list]\n",
        "  Gb_list = [np.zeros(mat.shape) for mat in b_list]\n",
        "  for image, label in batch:\n",
        "    # print(\"back_grad_Cal\", image.shape)\n",
        "    a_list = forward(image, w_list, b_list)\n",
        "    db_list, dw_list = backpropagation_dev_calculator(a_list, b_list, w_list, label)\n",
        "    for index in range(len(Gw_list)):\n",
        "      Gw_list[index] += dw_list[index]\n",
        "      Gb_list[index] += db_list[index]\n",
        "      \n",
        "  return Gw_list, Gb_list\n",
        "\n"
      ]
    },
    {
      "cell_type": "code",
      "execution_count": 44,
      "metadata": {
        "id": "Z7Zr8E9isYvn"
      },
      "outputs": [],
      "source": [
        "def cost(w_list, b_list, train_X, train_y):\n",
        "  cost_value = 0 \n",
        "  for sample, label in zip(train_X, train_y):\n",
        "    \n",
        "    a_list = forward(sample,w_list, b_list)\n",
        "    predicted_label = a_list[-1]\n",
        "    cost_value += ((predicted_label - label)**2) \n",
        "\n",
        "  return cost_value/len(train_X)\n"
      ]
    },
    {
      "cell_type": "code",
      "execution_count": 45,
      "metadata": {
        "id": "sQ0-Z9c_83I2"
      },
      "outputs": [],
      "source": [
        "def calculate_cost(batch, weights_matrix_list, bias_list):\n",
        "    cost = 0\n",
        "    for image, label in batch:\n",
        "        predicted_output = forward(image, weights_matrix_list, bias_list)\n",
        "        cost += (np.linalg.norm(predicted_output[-1] - label))\n",
        "    return cost/len(batch)\n",
        "    "
      ]
    },
    {
      "attachments": {},
      "cell_type": "markdown",
      "metadata": {},
      "source": [
        "## Train and evaluation"
      ]
    },
    {
      "cell_type": "code",
      "execution_count": 46,
      "metadata": {
        "id": "UwBOSN1Ha8IT"
      },
      "outputs": [],
      "source": [
        "from tqdm import tqdm\n",
        "def SGD(matrix_layer_list, learning_rate, batch_size, epoch, train_X, train_y):\n",
        "  w_list, b_list = init_matrix(matrix_layer_list)\n",
        "  cost_list = []\n",
        "  for i in tqdm(range(epoch)):\n",
        "    batch_list = create_batch_list( train_X, train_y, batch_size)\n",
        "    for batch in batch_list:\n",
        "      Gw_list, Gb_list = backpropagation_grad_calculator(w_list, b_list, batch)\n",
        "      for index in range(len(w_list)):\n",
        "        w_list[index] -= (learning_rate * Gw_list[index])/ batch_size\n",
        "        b_list[index] -= (learning_rate * Gb_list[index])/ batch_size\n",
        "    cost_list.append(cost(w_list, b_list,train_X, train_y))\n",
        "  return cost_list, w_list, b_list"
      ]
    },
    {
      "cell_type": "code",
      "execution_count": 47,
      "metadata": {
        "id": "hV4ff-G8odvE"
      },
      "outputs": [],
      "source": [
        "def cal_accuracy(test_X, test_y, w_list, b_list):\n",
        "  correct_prediction_num = 0\n",
        "  for img, label in zip(test_X, test_y):\n",
        "    a_list = forward(img, w_list, b_list )\n",
        "    predicted_label = a_list[-1]\n",
        "    if np.argmax(predicted_label, axis=0)== np.argmax(label, axis=0):\n",
        "      correct_prediction_num += 1\n",
        "  return (correct_prediction_num/len(test_X))*100   "
      ]
    },
    {
      "cell_type": "code",
      "execution_count": 48,
      "metadata": {
        "id": "y6giI4KVvgrc"
      },
      "outputs": [],
      "source": [
        "def show_result(test_X, test_y, w_list, b_list, cost_list):\n",
        "  acc = cal_accuracy(test_X, test_y, w_list, b_list)\n",
        "  print(acc)\n",
        "  norm_list = [(np.linalg.norm(x)**2) for x in cost_list]\n",
        "  plt.plot(norm_list)\n",
        "  plt.show()\n",
        "\n"
      ]
    },
    {
      "cell_type": "code",
      "execution_count": 49,
      "metadata": {
        "id": "zvzfRqb6ENgy"
      },
      "outputs": [],
      "source": [
        "def main(epoch_num):\n",
        "  matrix_layer_list = [28*28, 8*8, 16, 10]\n",
        "  \n",
        "  cost_list, w_list1, b_list1 = SGD(matrix_layer_list, 2, 32, epoch_num, train_X, train_y)\n",
        "  show_result(test_X, test_y, w_list1, b_list1, cost_list)\n",
        "  \n",
        "\n"
      ]
    },
    {
      "cell_type": "code",
      "execution_count": 50,
      "metadata": {
        "colab": {
          "base_uri": "https://localhost:8080/",
          "height": 1000
        },
        "id": "wVtD42-driFF",
        "outputId": "a58351f5-4ddb-4fd9-e167-a2f79c50a943"
      },
      "outputs": [
        {
          "name": "stderr",
          "output_type": "stream",
          "text": [
            "100%|██████████| 20/20 [10:17<00:00, 30.87s/it]\n"
          ]
        },
        {
          "name": "stdout",
          "output_type": "stream",
          "text": [
            "94.78\n"
          ]
        },
        {
          "data": {
            "image/png": "[encoded data removed]",
            "text/plain": [
              "<Figure size 432x288 with 1 Axes>"
            ]
          },
          "metadata": {
            "needs_background": "light"
          },
          "output_type": "display_data"
        }
      ],
      "source": [
        "main(20)\n"
      ]
    }
  ],
  "metadata": {
    "colab": {
      "collapsed_sections": [],
      "provenance": []
    },
    "gpuClass": "standard",
    "kernelspec": {
      "display_name": "Python 3.10.0 64-bit",
      "language": "python",
      "name": "python3"
    },
    "language_info": {
      "codemirror_mode": {
        "name": "ipython",
        "version": 3
      },
      "file_extension": ".py",
      "mimetype": "text/x-python",
      "name": "python",
      "nbconvert_exporter": "python",
      "pygments_lexer": "ipython3",
      "version": "3.10.0"
    },
    "vscode": {
      "interpreter": {
        "hash": "b38687464f26cc788bd6aab5d6ae24f3673c8f039be5f165e71e31106dd7d5ca"
      }
    }
  },
  "nbformat": 4,
  "nbformat_minor": 0
}
